{
  "nbformat": 4,
  "nbformat_minor": 0,
  "metadata": {
    "colab": {
      "provenance": [],
      "authorship_tag": "ABX9TyOYG0Al1FzaU6FxubKHUVSb",
      "include_colab_link": true
    },
    "kernelspec": {
      "name": "python3",
      "display_name": "Python 3"
    },
    "language_info": {
      "name": "python"
    }
  },
  "cells": [
    {
      "cell_type": "markdown",
      "metadata": {
        "id": "view-in-github",
        "colab_type": "text"
      },
      "source": [
        "<a href=\"https://colab.research.google.com/github/pouria1380-creator/Deep_learning_ne/blob/main/pouria_deep_learning_note_one.ipynb\" target=\"_parent\"><img src=\"https://colab.research.google.com/assets/colab-badge.svg\" alt=\"Open In Colab\"/></a>"
      ]
    },
    {
      "cell_type": "code",
      "execution_count": null,
      "metadata": {
        "id": "lgvLFx21qhrS"
      },
      "outputs": [],
      "source": [
        "import torch, numpy, matplotlib"
      ]
    },
    {
      "cell_type": "code",
      "source": [
        "a = 10\n",
        "print(a)\n",
        "print(f'torch {a} version: {torch.__version__}')\n",
        "print(f'check if cude is avaiable {torch.cuda.is_available()}')"
      ],
      "metadata": {
        "colab": {
          "base_uri": "https://localhost:8080/"
        },
        "id": "VFbNyfBLqma9",
        "outputId": "f0cbc73b-e1c6-4995-e0f8-07fbdfea2255"
      },
      "execution_count": null,
      "outputs": [
        {
          "output_type": "stream",
          "name": "stdout",
          "text": [
            "10\n",
            "torch 10 version: 2.8.0+cu126\n",
            "check if cude is avaiable False\n"
          ]
        }
      ]
    },
    {
      "cell_type": "code",
      "source": [
        "b = [i**2 for i in range(5)]\n",
        "print(b)"
      ],
      "metadata": {
        "colab": {
          "base_uri": "https://localhost:8080/"
        },
        "id": "1EyPuV-4q09d",
        "outputId": "7c5b5b12-7ae7-4732-d223-4b6222dacba9"
      },
      "execution_count": null,
      "outputs": [
        {
          "output_type": "stream",
          "name": "stdout",
          "text": [
            "[0, 1, 4, 9, 16]\n"
          ]
        }
      ]
    },
    {
      "cell_type": "code",
      "source": [
        "def relu(x):\n",
        "  return max(0, x)\n",
        "y = [relu(i) for i in [0,2,3]]\n",
        "print(y)"
      ],
      "metadata": {
        "colab": {
          "base_uri": "https://localhost:8080/"
        },
        "id": "EX8fruJHrjHq",
        "outputId": "631b9aaf-6231-410a-b2b0-505441465a50"
      },
      "execution_count": null,
      "outputs": [
        {
          "output_type": "stream",
          "name": "stdout",
          "text": [
            "[0, 2, 3]\n"
          ]
        }
      ]
    },
    {
      "cell_type": "code",
      "source": [
        "import numpy as np\n",
        "matrix = np.array([[3,4],[7,1]])\n",
        "matrix"
      ],
      "metadata": {
        "colab": {
          "base_uri": "https://localhost:8080/"
        },
        "id": "gDPWKxPdr6xL",
        "outputId": "c970413b-d5d8-47a2-bac1-e41df70e9e87"
      },
      "execution_count": null,
      "outputs": [
        {
          "output_type": "execute_result",
          "data": {
            "text/plain": [
              "array([[3, 4],\n",
              "       [7, 1]])"
            ]
          },
          "metadata": {},
          "execution_count": 16
        }
      ]
    },
    {
      "cell_type": "code",
      "source": [
        "f= np.array([[2,6],[21,9]])\n",
        "print(f)\n",
        "print(f'Elementwise multiply {f*matrix}')"
      ],
      "metadata": {
        "colab": {
          "base_uri": "https://localhost:8080/"
        },
        "id": "1Z5yo8HTsw1K",
        "outputId": "d1ae8457-90b3-4ba3-f854-c37455545ff7"
      },
      "execution_count": null,
      "outputs": [
        {
          "output_type": "stream",
          "name": "stdout",
          "text": [
            "[[ 2  6]\n",
            " [21  9]]\n",
            "Elementwise multiply [[  6  24]\n",
            " [147   9]]\n"
          ]
        }
      ]
    },
    {
      "cell_type": "code",
      "source": [
        "#matrix multiply\n",
        "print(f'Matrix multiply {f@matrix}')"
      ],
      "metadata": {
        "colab": {
          "base_uri": "https://localhost:8080/"
        },
        "id": "gTZAUn40tYoD",
        "outputId": "013bc115-c043-4534-d3a4-37a3fd433820"
      },
      "execution_count": null,
      "outputs": [
        {
          "output_type": "stream",
          "name": "stdout",
          "text": [
            "Matrix multiply [[ 48  14]\n",
            " [126  93]]\n"
          ]
        }
      ]
    },
    {
      "cell_type": "code",
      "source": [
        "matrix_2 = np.array([10,30])\n",
        "matrix_2"
      ],
      "metadata": {
        "colab": {
          "base_uri": "https://localhost:8080/"
        },
        "id": "XQYokMnOth8U",
        "outputId": "d94dc5ff-3add-4c26-aa2c-778a0f7f6e5a"
      },
      "execution_count": null,
      "outputs": [
        {
          "output_type": "execute_result",
          "data": {
            "text/plain": [
              "array([10, 30])"
            ]
          },
          "metadata": {},
          "execution_count": 22
        }
      ]
    },
    {
      "cell_type": "code",
      "source": [
        "print(matrix+matrix_2)"
      ],
      "metadata": {
        "colab": {
          "base_uri": "https://localhost:8080/"
        },
        "id": "RuZhcw7mvBvr",
        "outputId": "b0de61ce-1dab-4329-e558-0568a35d8da1"
      },
      "execution_count": null,
      "outputs": [
        {
          "output_type": "stream",
          "name": "stdout",
          "text": [
            "[[13 34]\n",
            " [17 31]]\n"
          ]
        }
      ]
    },
    {
      "cell_type": "code",
      "source": [],
      "metadata": {
        "id": "BhnqQky7vKEj"
      },
      "execution_count": null,
      "outputs": []
    },
    {
      "cell_type": "markdown",
      "source": [
        "compute w=ax+b with MSE loss\n",
        "\n",
        "Define x, W and b\n",
        "\n",
        "write the formula\n",
        "\n",
        "Define target value\n",
        "\n",
        "Calculate loss and print\n",
        "\n",
        "x = [1 2], W = [2 , b = 1 3]\n",
        "\n"
      ],
      "metadata": {
        "id": "izssQRGJwZEi"
      }
    },
    {
      "cell_type": "code",
      "source": [
        "import numpy as np\n",
        "x= np.array([1,2])\n",
        "w = np.array([[2],[3]])\n",
        "b=np.array([1])\n",
        "print(f'x: {x}')\n",
        "print(f'w: {w}')\n",
        "print(f'b: {b}')"
      ],
      "metadata": {
        "colab": {
          "base_uri": "https://localhost:8080/"
        },
        "id": "kSW9uP9awhSb",
        "outputId": "d8d321b0-6b88-4a6e-be8a-44f14746a782"
      },
      "execution_count": null,
      "outputs": [
        {
          "output_type": "stream",
          "name": "stdout",
          "text": [
            "x: [1 2]\n",
            "w: [[2]\n",
            " [3]]\n",
            "b: [1]\n"
          ]
        }
      ]
    },
    {
      "cell_type": "code",
      "source": [
        "y = x @ w +b\n",
        "target = 10\n",
        "print(f'y: {y}')\n",
        "print(f'target: {target}')"
      ],
      "metadata": {
        "colab": {
          "base_uri": "https://localhost:8080/"
        },
        "id": "j2-hq7LVxIy0",
        "outputId": "3330df7b-8f16-408d-ad67-8c278b80ee78"
      },
      "execution_count": null,
      "outputs": [
        {
          "output_type": "stream",
          "name": "stdout",
          "text": [
            "y: [9]\n",
            "target: 10\n"
          ]
        }
      ]
    },
    {
      "cell_type": "code",
      "source": [
        "loss_function = np.mean((y-target)**2)\n",
        "print(f'loss: {loss_function}')"
      ],
      "metadata": {
        "colab": {
          "base_uri": "https://localhost:8080/"
        },
        "id": "DJxK9coAxcEc",
        "outputId": "3983640d-66b8-46ea-f47b-1e8016a7eb97"
      },
      "execution_count": null,
      "outputs": [
        {
          "output_type": "stream",
          "name": "stdout",
          "text": [
            "loss: 1.0\n"
          ]
        }
      ]
    },
    {
      "cell_type": "markdown",
      "source": [
        "Torch"
      ],
      "metadata": {
        "id": "of6sLEGd17Uv"
      }
    },
    {
      "cell_type": "code",
      "source": [
        "x = torch.tensor([[1.0,2.0]],requires_grad= True)\n",
        "w = torch.tensor([[2.0],[3.0]], requires_grad=True)\n",
        "b=torch.tensor([1.0], requires_grad=True)\n",
        "print(f'x: {x}')\n",
        "print(f'w: {w}')\n",
        "print(f'b: {b}')\n",
        "y = x @ w +b\n",
        "print(f'y: {y}')\n",
        "y.backward()\n",
        "print(f'dy/dw:{w.grad}')\n",
        "print(f'dy/db:{b.grad}')\n"
      ],
      "metadata": {
        "id": "XjhwdF1ZxumM",
        "colab": {
          "base_uri": "https://localhost:8080/"
        },
        "outputId": "5f4b2ea5-76c2-447f-e301-a550ad8cc8b6"
      },
      "execution_count": 35,
      "outputs": [
        {
          "output_type": "stream",
          "name": "stdout",
          "text": [
            "x: tensor([[1., 2.]], requires_grad=True)\n",
            "w: tensor([[2.],\n",
            "        [3.]], requires_grad=True)\n",
            "b: tensor([1.], requires_grad=True)\n",
            "y: tensor([[9.]], grad_fn=<AddBackward0>)\n",
            "dy/dw:tensor([[1.],\n",
            "        [2.]])\n",
            "dy/db:tensor([1.])\n"
          ]
        }
      ]
    },
    {
      "cell_type": "code",
      "source": [],
      "metadata": {
        "id": "kk0icZFk1rgm"
      },
      "execution_count": null,
      "outputs": []
    }
  ]
}