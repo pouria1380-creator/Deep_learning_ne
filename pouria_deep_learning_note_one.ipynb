{
  "nbformat": 4,
  "nbformat_minor": 0,
  "metadata": {
    "colab": {
      "provenance": [],
      "authorship_tag": "ABX9TyNe4rs27ltADjLIM5LLwL6A",
      "include_colab_link": true
    },
    "kernelspec": {
      "name": "python3",
      "display_name": "Python 3"
    },
    "language_info": {
      "name": "python"
    }
  },
  "cells": [
    {
      "cell_type": "markdown",
      "metadata": {
        "id": "view-in-github",
        "colab_type": "text"
      },
      "source": [
        "<a href=\"https://colab.research.google.com/github/pouria1380-creator/Deep_learning_ne/blob/main/pouria_deep_learning_note_one.ipynb\" target=\"_parent\"><img src=\"https://colab.research.google.com/assets/colab-badge.svg\" alt=\"Open In Colab\"/></a>"
      ]
    },
    {
      "cell_type": "code",
      "execution_count": null,
      "metadata": {
        "id": "lgvLFx21qhrS"
      },
      "outputs": [],
      "source": [
        "import torch, numpy, matplotlib"
      ]
    },
    {
      "cell_type": "code",
      "source": [
        "a = 10\n",
        "print(a)\n",
        "print(f'torch {a} version: {torch.__version__}')\n",
        "print(f'check if cude is avaiable {torch.cuda.is_available()}')"
      ],
      "metadata": {
        "colab": {
          "base_uri": "https://localhost:8080/"
        },
        "id": "VFbNyfBLqma9",
        "outputId": "f0cbc73b-e1c6-4995-e0f8-07fbdfea2255"
      },
      "execution_count": null,
      "outputs": [
        {
          "output_type": "stream",
          "name": "stdout",
          "text": [
            "10\n",
            "torch 10 version: 2.8.0+cu126\n",
            "check if cude is avaiable False\n"
          ]
        }
      ]
    },
    {
      "cell_type": "code",
      "source": [
        "b = [i**2 for i in range(5)]\n",
        "print(b)"
      ],
      "metadata": {
        "colab": {
          "base_uri": "https://localhost:8080/"
        },
        "id": "1EyPuV-4q09d",
        "outputId": "7c5b5b12-7ae7-4732-d223-4b6222dacba9"
      },
      "execution_count": null,
      "outputs": [
        {
          "output_type": "stream",
          "name": "stdout",
          "text": [
            "[0, 1, 4, 9, 16]\n"
          ]
        }
      ]
    },
    {
      "cell_type": "code",
      "source": [
        "def relu(x):\n",
        "  return max(0, x)\n",
        "y = [relu(i) for i in [0,2,3]]\n",
        "print(y)"
      ],
      "metadata": {
        "colab": {
          "base_uri": "https://localhost:8080/"
        },
        "id": "EX8fruJHrjHq",
        "outputId": "631b9aaf-6231-410a-b2b0-505441465a50"
      },
      "execution_count": null,
      "outputs": [
        {
          "output_type": "stream",
          "name": "stdout",
          "text": [
            "[0, 2, 3]\n"
          ]
        }
      ]
    },
    {
      "cell_type": "code",
      "source": [
        "import numpy as np\n",
        "matrix = np.array([[3,4],[7,1]])\n",
        "matrix"
      ],
      "metadata": {
        "colab": {
          "base_uri": "https://localhost:8080/"
        },
        "id": "gDPWKxPdr6xL",
        "outputId": "c970413b-d5d8-47a2-bac1-e41df70e9e87"
      },
      "execution_count": null,
      "outputs": [
        {
          "output_type": "execute_result",
          "data": {
            "text/plain": [
              "array([[3, 4],\n",
              "       [7, 1]])"
            ]
          },
          "metadata": {},
          "execution_count": 16
        }
      ]
    },
    {
      "cell_type": "code",
      "source": [
        "f= np.array([[2,6],[21,9]])\n",
        "print(f)\n",
        "print(f'Elementwise multiply {f*matrix}')"
      ],
      "metadata": {
        "colab": {
          "base_uri": "https://localhost:8080/"
        },
        "id": "1Z5yo8HTsw1K",
        "outputId": "d1ae8457-90b3-4ba3-f854-c37455545ff7"
      },
      "execution_count": null,
      "outputs": [
        {
          "output_type": "stream",
          "name": "stdout",
          "text": [
            "[[ 2  6]\n",
            " [21  9]]\n",
            "Elementwise multiply [[  6  24]\n",
            " [147   9]]\n"
          ]
        }
      ]
    },
    {
      "cell_type": "code",
      "source": [
        "#matrix multiply\n",
        "print(f'Matrix multiply {f@matrix}')"
      ],
      "metadata": {
        "colab": {
          "base_uri": "https://localhost:8080/"
        },
        "id": "gTZAUn40tYoD",
        "outputId": "013bc115-c043-4534-d3a4-37a3fd433820"
      },
      "execution_count": null,
      "outputs": [
        {
          "output_type": "stream",
          "name": "stdout",
          "text": [
            "Matrix multiply [[ 48  14]\n",
            " [126  93]]\n"
          ]
        }
      ]
    },
    {
      "cell_type": "code",
      "source": [
        "matrix_2 = np.array([10,30])\n",
        "matrix_2"
      ],
      "metadata": {
        "colab": {
          "base_uri": "https://localhost:8080/"
        },
        "id": "XQYokMnOth8U",
        "outputId": "d94dc5ff-3add-4c26-aa2c-778a0f7f6e5a"
      },
      "execution_count": null,
      "outputs": [
        {
          "output_type": "execute_result",
          "data": {
            "text/plain": [
              "array([10, 30])"
            ]
          },
          "metadata": {},
          "execution_count": 22
        }
      ]
    },
    {
      "cell_type": "code",
      "source": [
        "print(matrix+matrix_2)"
      ],
      "metadata": {
        "colab": {
          "base_uri": "https://localhost:8080/"
        },
        "id": "RuZhcw7mvBvr",
        "outputId": "b0de61ce-1dab-4329-e558-0568a35d8da1"
      },
      "execution_count": null,
      "outputs": [
        {
          "output_type": "stream",
          "name": "stdout",
          "text": [
            "[[13 34]\n",
            " [17 31]]\n"
          ]
        }
      ]
    },
    {
      "cell_type": "code",
      "source": [],
      "metadata": {
        "id": "BhnqQky7vKEj"
      },
      "execution_count": null,
      "outputs": []
    },
    {
      "cell_type": "markdown",
      "source": [
        "compute w=ax+b with MSE loss\n",
        "\n",
        "Define x, W and b\n",
        "\n",
        "write the formula\n",
        "\n",
        "Define target value\n",
        "\n",
        "Calculate loss and print\n",
        "\n",
        "x = [1 2], W = [2 , b = 1 3]\n",
        "\n"
      ],
      "metadata": {
        "id": "izssQRGJwZEi"
      }
    },
    {
      "cell_type": "code",
      "source": [
        "import numpy as np\n",
        "x= np.array([1,2])\n",
        "w = np.array([[2],[3]])\n",
        "b=np.array([1])\n",
        "print(f'x: {x}')\n",
        "print(f'w: {w}')\n",
        "print(f'b: {b}')"
      ],
      "metadata": {
        "colab": {
          "base_uri": "https://localhost:8080/"
        },
        "id": "kSW9uP9awhSb",
        "outputId": "d8d321b0-6b88-4a6e-be8a-44f14746a782"
      },
      "execution_count": null,
      "outputs": [
        {
          "output_type": "stream",
          "name": "stdout",
          "text": [
            "x: [1 2]\n",
            "w: [[2]\n",
            " [3]]\n",
            "b: [1]\n"
          ]
        }
      ]
    },
    {
      "cell_type": "code",
      "source": [
        "y = x @ w +b\n",
        "target = 10\n",
        "print(f'y: {y}')\n",
        "print(f'target: {target}')"
      ],
      "metadata": {
        "colab": {
          "base_uri": "https://localhost:8080/"
        },
        "id": "j2-hq7LVxIy0",
        "outputId": "3330df7b-8f16-408d-ad67-8c278b80ee78"
      },
      "execution_count": null,
      "outputs": [
        {
          "output_type": "stream",
          "name": "stdout",
          "text": [
            "y: [9]\n",
            "target: 10\n"
          ]
        }
      ]
    },
    {
      "cell_type": "code",
      "source": [
        "loss_function = np.mean((y-target)**2)\n",
        "print(f'loss: {loss_function}')"
      ],
      "metadata": {
        "colab": {
          "base_uri": "https://localhost:8080/"
        },
        "id": "DJxK9coAxcEc",
        "outputId": "3983640d-66b8-46ea-f47b-1e8016a7eb97"
      },
      "execution_count": null,
      "outputs": [
        {
          "output_type": "stream",
          "name": "stdout",
          "text": [
            "loss: 1.0\n"
          ]
        }
      ]
    },
    {
      "cell_type": "markdown",
      "source": [
        "Torch"
      ],
      "metadata": {
        "id": "of6sLEGd17Uv"
      }
    },
    {
      "cell_type": "code",
      "source": [
        "x = torch.tensor([[1.0,2.0]],requires_grad= True)\n",
        "w = torch.tensor([[2.0],[3.0]], requires_grad=True)\n",
        "b=torch.tensor([1.0], requires_grad=True)\n",
        "print(f'x: {x}')\n",
        "print(f'w: {w}')\n",
        "print(f'b: {b}')\n",
        "y = x @ w +b\n",
        "print(f'y: {y}')\n",
        "y.backward()\n",
        "print(f'dy/dw:{w.grad}')\n",
        "print(f'dy/db:{b.grad}')\n"
      ],
      "metadata": {
        "id": "XjhwdF1ZxumM",
        "colab": {
          "base_uri": "https://localhost:8080/"
        },
        "outputId": "5f4b2ea5-76c2-447f-e301-a550ad8cc8b6"
      },
      "execution_count": 35,
      "outputs": [
        {
          "output_type": "stream",
          "name": "stdout",
          "text": [
            "x: tensor([[1., 2.]], requires_grad=True)\n",
            "w: tensor([[2.],\n",
            "        [3.]], requires_grad=True)\n",
            "b: tensor([1.], requires_grad=True)\n",
            "y: tensor([[9.]], grad_fn=<AddBackward0>)\n",
            "dy/dw:tensor([[1.],\n",
            "        [2.]])\n",
            "dy/db:tensor([1.])\n"
          ]
        }
      ]
    },
    {
      "cell_type": "code",
      "source": [],
      "metadata": {
        "id": "kk0icZFk1rgm"
      },
      "execution_count": null,
      "outputs": []
    },
    {
      "cell_type": "markdown",
      "source": [
        "# Exercise 2: Linear Regression (Manual Gradient Descent)\n",
        "- manual_seed()\n",
        "- linspace(,,)\n",
        "- unsqueeze()\n",
        "- y = 2x + 1 + noise\n",
        "- randn()\n",
        "- size()\n",
        "- plt.scatter()\n",
        "- Initialize paramters\n",
        "- Training Loop\n",
        "- backward()\n",
        "- Update parameters: .no_grad()\n",
        "- .grad.zero_()\n",
        "- .detach()\n",
        "- plot, legend, show"
      ],
      "metadata": {
        "id": "XXVxiTbZ4ZPk"
      }
    },
    {
      "cell_type": "code",
      "source": [
        "torch.manual_seed(0)\n",
        "x = torch.linspace(-3,3,100).unsqueeze(1)\n",
        "print(x)\n",
        "y = 2*x + 1 + torch.randn(x.size())"
      ],
      "metadata": {
        "colab": {
          "base_uri": "https://localhost:8080/"
        },
        "id": "0D8VcJHH4Z5t",
        "outputId": "1780b94f-5187-46e5-f76c-04ffacfd281c"
      },
      "execution_count": 36,
      "outputs": [
        {
          "output_type": "stream",
          "name": "stdout",
          "text": [
            "tensor([[-3.0000],\n",
            "        [-2.9394],\n",
            "        [-2.8788],\n",
            "        [-2.8182],\n",
            "        [-2.7576],\n",
            "        [-2.6970],\n",
            "        [-2.6364],\n",
            "        [-2.5758],\n",
            "        [-2.5152],\n",
            "        [-2.4545],\n",
            "        [-2.3939],\n",
            "        [-2.3333],\n",
            "        [-2.2727],\n",
            "        [-2.2121],\n",
            "        [-2.1515],\n",
            "        [-2.0909],\n",
            "        [-2.0303],\n",
            "        [-1.9697],\n",
            "        [-1.9091],\n",
            "        [-1.8485],\n",
            "        [-1.7879],\n",
            "        [-1.7273],\n",
            "        [-1.6667],\n",
            "        [-1.6061],\n",
            "        [-1.5455],\n",
            "        [-1.4848],\n",
            "        [-1.4242],\n",
            "        [-1.3636],\n",
            "        [-1.3030],\n",
            "        [-1.2424],\n",
            "        [-1.1818],\n",
            "        [-1.1212],\n",
            "        [-1.0606],\n",
            "        [-1.0000],\n",
            "        [-0.9394],\n",
            "        [-0.8788],\n",
            "        [-0.8182],\n",
            "        [-0.7576],\n",
            "        [-0.6970],\n",
            "        [-0.6364],\n",
            "        [-0.5758],\n",
            "        [-0.5152],\n",
            "        [-0.4545],\n",
            "        [-0.3939],\n",
            "        [-0.3333],\n",
            "        [-0.2727],\n",
            "        [-0.2121],\n",
            "        [-0.1515],\n",
            "        [-0.0909],\n",
            "        [-0.0303],\n",
            "        [ 0.0303],\n",
            "        [ 0.0909],\n",
            "        [ 0.1515],\n",
            "        [ 0.2121],\n",
            "        [ 0.2727],\n",
            "        [ 0.3333],\n",
            "        [ 0.3939],\n",
            "        [ 0.4545],\n",
            "        [ 0.5152],\n",
            "        [ 0.5758],\n",
            "        [ 0.6364],\n",
            "        [ 0.6970],\n",
            "        [ 0.7576],\n",
            "        [ 0.8182],\n",
            "        [ 0.8788],\n",
            "        [ 0.9394],\n",
            "        [ 1.0000],\n",
            "        [ 1.0606],\n",
            "        [ 1.1212],\n",
            "        [ 1.1818],\n",
            "        [ 1.2424],\n",
            "        [ 1.3030],\n",
            "        [ 1.3636],\n",
            "        [ 1.4242],\n",
            "        [ 1.4848],\n",
            "        [ 1.5455],\n",
            "        [ 1.6061],\n",
            "        [ 1.6667],\n",
            "        [ 1.7273],\n",
            "        [ 1.7879],\n",
            "        [ 1.8485],\n",
            "        [ 1.9091],\n",
            "        [ 1.9697],\n",
            "        [ 2.0303],\n",
            "        [ 2.0909],\n",
            "        [ 2.1515],\n",
            "        [ 2.2121],\n",
            "        [ 2.2727],\n",
            "        [ 2.3333],\n",
            "        [ 2.3939],\n",
            "        [ 2.4545],\n",
            "        [ 2.5152],\n",
            "        [ 2.5758],\n",
            "        [ 2.6364],\n",
            "        [ 2.6970],\n",
            "        [ 2.7576],\n",
            "        [ 2.8182],\n",
            "        [ 2.8788],\n",
            "        [ 2.9394],\n",
            "        [ 3.0000]])\n"
          ]
        }
      ]
    },
    {
      "cell_type": "code",
      "source": [
        "W = torch.randn(1,1, requires_grad=True)\n",
        "b= torch.zeros(1,requires_grad=True)\n",
        "losses = []\n",
        "lr = 0.01\n",
        "for epoch in range(100):\n",
        "  y_predicted = x @ W + b\n",
        "  loss = torch.mean((y_predicted - y)**2)\n",
        "  losses.append(loss.item())\n",
        "  loss.backward()\n",
        "  with torch.no_grad():\n",
        "    W -= lr*W.grad\n",
        "    b -= lr*b.grad\n",
        "  W.grad.zero_()\n",
        "  b.grad.zero_()\n",
        "\n",
        "  print(\"Learned W:\", W.item())\n",
        "  print(\"Learned b:\", b.item())"
      ],
      "metadata": {
        "colab": {
          "base_uri": "https://localhost:8080/"
        },
        "id": "zT5yDGTF4rl-",
        "outputId": "abbe2a04-3fa6-49e1-e0ad-738004aa30bc"
      },
      "execution_count": 37,
      "outputs": [
        {
          "output_type": "stream",
          "name": "stdout",
          "text": [
            "Learned W: 1.3646026849746704\n",
            "Learned b: 0.02074282057583332\n",
            "Learned W: 1.403469443321228\n",
            "Learned b: 0.041070789098739624\n",
            "Learned W: 1.4399571418762207\n",
            "Learned b: 0.06099219620227814\n",
            "Learned W: 1.47421133518219\n",
            "Learned b: 0.08051517605781555\n",
            "Learned W: 1.5063687562942505\n",
            "Learned b: 0.09964769333600998\n",
            "Learned W: 1.5365577936172485\n",
            "Learned b: 0.11839756369590759\n",
            "Learned W: 1.5648988485336304\n",
            "Learned b: 0.13677243888378143\n",
            "Learned W: 1.5915050506591797\n",
            "Learned b: 0.1547798067331314\n",
            "Learned W: 1.6164827346801758\n",
            "Learned b: 0.17242702841758728\n",
            "Learned W: 1.6399314403533936\n",
            "Learned b: 0.18972131609916687\n",
            "Learned W: 1.6619447469711304\n",
            "Learned b: 0.20666971802711487\n",
            "Learned W: 1.6826106309890747\n",
            "Learned b: 0.22327914834022522\n",
            "Learned W: 1.7020114660263062\n",
            "Learned b: 0.23955638706684113\n",
            "Learned W: 1.7202247381210327\n",
            "Learned b: 0.25550809502601624\n",
            "Learned W: 1.7373231649398804\n",
            "Learned b: 0.2711407542228699\n",
            "Learned W: 1.7533749341964722\n",
            "Learned b: 0.2864607572555542\n",
            "Learned W: 1.7684441804885864\n",
            "Learned b: 0.30147436261177063\n",
            "Learned W: 1.7825909852981567\n",
            "Learned b: 0.31618770956993103\n",
            "Learned W: 1.7958718538284302\n",
            "Learned b: 0.3306067883968353\n",
            "Learned W: 1.8083397150039673\n",
            "Learned b: 0.3447374701499939\n",
            "Learned W: 1.8200443983078003\n",
            "Learned b: 0.35858553647994995\n",
            "Learned W: 1.831032633781433\n",
            "Learned b: 0.37215664982795715\n",
            "Learned W: 1.8413482904434204\n",
            "Learned b: 0.3854563534259796\n",
            "Learned W: 1.8510324954986572\n",
            "Learned b: 0.3984900414943695\n",
            "Learned W: 1.860123872756958\n",
            "Learned b: 0.41126304864883423\n",
            "Learned W: 1.8686587810516357\n",
            "Learned b: 0.423780620098114\n",
            "Learned W: 1.8766711950302124\n",
            "Learned b: 0.43604782223701477\n",
            "Learned W: 1.8841931819915771\n",
            "Learned b: 0.44806969165802\n",
            "Learned W: 1.8912547826766968\n",
            "Learned b: 0.45985111594200134\n",
            "Learned W: 1.8978841304779053\n",
            "Learned b: 0.47139692306518555\n",
            "Learned W: 1.904107689857483\n",
            "Learned b: 0.4827117919921875\n",
            "Learned W: 1.9099502563476562\n",
            "Learned b: 0.4938003718852997\n",
            "Learned W: 1.9154351949691772\n",
            "Learned b: 0.5046671628952026\n",
            "Learned W: 1.9205843210220337\n",
            "Learned b: 0.5153166651725769\n",
            "Learned W: 1.9254182577133179\n",
            "Learned b: 0.5257531404495239\n",
            "Learned W: 1.929956316947937\n",
            "Learned b: 0.5359808802604675\n",
            "Learned W: 1.9342166185379028\n",
            "Learned b: 0.546004056930542\n",
            "Learned W: 1.9382160902023315\n",
            "Learned b: 0.5558267831802368\n",
            "Learned W: 1.9419708251953125\n",
            "Learned b: 0.565453052520752\n",
            "Learned W: 1.9454957246780396\n",
            "Learned b: 0.5748867988586426\n",
            "Learned W: 1.9488048553466797\n",
            "Learned b: 0.5841318964958191\n",
            "Learned W: 1.951911449432373\n",
            "Learned b: 0.5931921005249023\n",
            "Learned W: 1.9548277854919434\n",
            "Learned b: 0.6020711064338684\n",
            "Learned W: 1.9575656652450562\n",
            "Learned b: 0.6107724905014038\n",
            "Learned W: 1.9601359367370605\n",
            "Learned b: 0.6192998886108398\n",
            "Learned W: 1.962548851966858\n",
            "Learned b: 0.6276566982269287\n",
            "Learned W: 1.9648140668869019\n",
            "Learned b: 0.6358463764190674\n",
            "Learned W: 1.9669406414031982\n",
            "Learned b: 0.6438722610473633\n",
            "Learned W: 1.9689370393753052\n",
            "Learned b: 0.651737630367279\n",
            "Learned W: 1.9708112478256226\n",
            "Learned b: 0.6594457030296326\n",
            "Learned W: 1.972570776939392\n",
            "Learned b: 0.6669996380805969\n",
            "Learned W: 1.9742225408554077\n",
            "Learned b: 0.6744024753570557\n",
            "Learned W: 1.9757732152938843\n",
            "Learned b: 0.6816572546958923\n",
            "Learned W: 1.9772289991378784\n",
            "Learned b: 0.6887669563293457\n",
            "Learned W: 1.9785956144332886\n",
            "Learned b: 0.695734441280365\n",
            "Learned W: 1.9798786640167236\n",
            "Learned b: 0.7025625705718994\n",
            "Learned W: 1.9810831546783447\n",
            "Learned b: 0.7092541456222534\n",
            "Learned W: 1.9822138547897339\n",
            "Learned b: 0.7158119082450867\n",
            "Learned W: 1.9832754135131836\n",
            "Learned b: 0.7222384810447693\n",
            "Learned W: 1.9842720031738281\n",
            "Learned b: 0.7285365462303162\n",
            "Learned W: 1.9852075576782227\n",
            "Learned b: 0.7347086668014526\n",
            "Learned W: 1.9860857725143433\n",
            "Learned b: 0.7407573461532593\n",
            "Learned W: 1.9869102239608765\n",
            "Learned b: 0.7466850280761719\n",
            "Learned W: 1.9876842498779297\n",
            "Learned b: 0.7524941563606262\n",
            "Learned W: 1.9884109497070312\n",
            "Learned b: 0.7581871151924133\n",
            "Learned W: 1.9890930652618408\n",
            "Learned b: 0.7637661695480347\n",
            "Learned W: 1.9897334575653076\n",
            "Learned b: 0.7692336440086365\n",
            "Learned W: 1.9903346300125122\n",
            "Learned b: 0.7745918035507202\n",
            "Learned W: 1.9908990859985352\n",
            "Learned b: 0.7798427939414978\n",
            "Learned W: 1.9914289712905884\n",
            "Learned b: 0.7849887609481812\n",
            "Learned W: 1.9919264316558838\n",
            "Learned b: 0.7900317907333374\n",
            "Learned W: 1.9923933744430542\n",
            "Learned b: 0.7949739694595337\n",
            "Learned W: 1.992831826210022\n",
            "Learned b: 0.7998173236846924\n",
            "Learned W: 1.9932433366775513\n",
            "Learned b: 0.8045638203620911\n",
            "Learned W: 1.9936296939849854\n",
            "Learned b: 0.8092153668403625\n",
            "Learned W: 1.9939924478530884\n",
            "Learned b: 0.8137738704681396\n",
            "Learned W: 1.994333028793335\n",
            "Learned b: 0.8182412385940552\n",
            "Learned W: 1.9946527481079102\n",
            "Learned b: 0.8226192593574524\n",
            "Learned W: 1.9949527978897095\n",
            "Learned b: 0.8269097208976746\n",
            "Learned W: 1.995234489440918\n",
            "Learned b: 0.8311143517494202\n",
            "Learned W: 1.9954990148544312\n",
            "Learned b: 0.8352348804473877\n",
            "Learned W: 1.9957473278045654\n",
            "Learned b: 0.8392729759216309\n",
            "Learned W: 1.9959803819656372\n",
            "Learned b: 0.8432303667068481\n",
            "Learned W: 1.9961992502212524\n",
            "Learned b: 0.8471086025238037\n",
            "Learned W: 1.9964046478271484\n",
            "Learned b: 0.8509092330932617\n",
            "Learned W: 1.9965975284576416\n",
            "Learned b: 0.8546338677406311\n",
            "Learned W: 1.9967786073684692\n",
            "Learned b: 0.8582839965820312\n",
            "Learned W: 1.9969485998153687\n",
            "Learned b: 0.8618611097335815\n",
            "Learned W: 1.9971082210540771\n",
            "Learned b: 0.8653666973114014\n",
            "Learned W: 1.9972580671310425\n",
            "Learned b: 0.8688021898269653\n",
            "Learned W: 1.9973987340927124\n",
            "Learned b: 0.8721689581871033\n",
            "Learned W: 1.9975306987762451\n",
            "Learned b: 0.875468373298645\n",
            "Learned W: 1.997654676437378\n",
            "Learned b: 0.8787018060684204\n",
            "Learned W: 1.9977710247039795\n",
            "Learned b: 0.8818705677986145\n",
            "Learned W: 1.997880220413208\n",
            "Learned b: 0.8849759697914124\n",
            "Learned W: 1.9979827404022217\n",
            "Learned b: 0.8880192637443542\n",
            "Learned W: 1.9980790615081787\n",
            "Learned b: 0.8910017013549805\n",
            "Learned W: 1.9981694221496582\n",
            "Learned b: 0.8939244747161865\n",
            "Learned W: 1.9982542991638184\n",
            "Learned b: 0.8967888355255127\n",
            "Learned W: 1.9983339309692383\n",
            "Learned b: 0.8995958566665649\n"
          ]
        }
      ]
    },
    {
      "cell_type": "code",
      "source": [],
      "metadata": {
        "id": "vCduoDgl4vs8"
      },
      "execution_count": null,
      "outputs": []
    },
    {
      "cell_type": "markdown",
      "source": [
        "# Exercise 3: Using nn.Linear and Optimizers\n",
        "- Replace manual update\n",
        "- nn.Linear()\n",
        "- optimizer = torch.optim.SGD([W, b], lr=0.01)\n",
        "- nn.MSELoss()\n",
        "- optimizer.zero_grad()\n",
        "- loss.backward()\n",
        "- optimizer.step()\n",
        "- optimizer.zero_grad()\n",
        "\n"
      ],
      "metadata": {
        "id": "lhR3Akzf47X-"
      }
    },
    {
      "cell_type": "markdown",
      "source": [],
      "metadata": {
        "id": "0qXfYDbE5BBs"
      }
    },
    {
      "cell_type": "code",
      "source": [
        "from torch import nn\n",
        "model = nn.Linear(1,1)\n",
        "opt = torch.optim.SGD(model.parameters(), lr =0.01)\n",
        "loss_function = nn.MSELoss()\n",
        "for epoch in range(100):\n",
        "  y_predicted2 = model(x)\n",
        "  loss = loss_function (y_predicted2, y)\n",
        "  opt.zero_grad()\n",
        "  loss.backward()\n",
        "  opt.step()\n",
        "print(\"Learned W and b\", [p.data for p in model.parameters()])"
      ],
      "metadata": {
        "colab": {
          "base_uri": "https://localhost:8080/"
        },
        "id": "elGaGs5S4777",
        "outputId": "97eb8e6f-4316-4927-dacc-6cf8b7782177"
      },
      "execution_count": 38,
      "outputs": [
        {
          "output_type": "stream",
          "name": "stdout",
          "text": [
            "Learned W and b [tensor([[1.9967]]), tensor([0.9075])]\n"
          ]
        }
      ]
    },
    {
      "cell_type": "code",
      "source": [
        "#vissualization\n",
        "#plt.plot()\n",
        "#plt.title()\n",
        "#plt.xlabel()\n",
        "#plt.show()\n",
        "import matplotlib.pyplot as plt\n",
        "plt.plot(losses)\n",
        "plt.title(\"Training Loss\")\n",
        "plt.xlabel('Epoch')\n",
        "plt.ylabel('MSE Loss')\n",
        "plt.show()\n",
        "\n"
      ],
      "metadata": {
        "colab": {
          "base_uri": "https://localhost:8080/",
          "height": 472
        },
        "id": "4YdtXCCU5Cwk",
        "outputId": "e50caa01-df4b-4b75-aab2-a71cee0400d7"
      },
      "execution_count": 39,
      "outputs": [
        {
          "output_type": "display_data",
          "data": {
            "text/plain": [
              "<Figure size 640x480 with 1 Axes>"
            ],
            "image/png": "[encoded data removed]"
          },
          "metadata": {}
        }
      ]
    },
    {
      "cell_type": "code",
      "source": [],
      "metadata": {
        "id": "O181XmWb5R1j"
      },
      "execution_count": null,
      "outputs": []
    },
    {
      "cell_type": "markdown",
      "source": [
        "# Exercise 4: Implement Linear Regression from Scratch (PyTorch or NumPy)\n",
        "- y = 3x + 2\n",
        "- Compare learning rates [0.001, 0.01, 0.1]\n",
        "- Use Adam optimizer\n",
        "- Fit nonlinear function y = 2x^2 + 1"
      ],
      "metadata": {
        "id": "ZoDwlW0Y5tfM"
      }
    },
    {
      "cell_type": "markdown",
      "metadata": {
        "id": "50c6bb17"
      },
      "source": [
        "## Implement linear regression (y = 3x + 2) with adam optimizer\n",
        "\n",
        "\n"
      ]
    },
    {
      "cell_type": "code",
      "metadata": {
        "colab": {
          "base_uri": "https://localhost:8080/"
        },
        "id": "8da4e93b",
        "outputId": "8fe1944b-239f-4db1-bf82-80d7c95c024d"
      },
      "source": [
        "torch.manual_seed(0)\n",
        "x = torch.linspace(-3, 3, 100).unsqueeze(1)\n",
        "y = 3 * x + 2 + torch.randn(x.size())\n",
        "\n",
        "W = torch.randn(1, 1, requires_grad=True)\n",
        "b = torch.zeros(1, requires_grad=True)\n",
        "\n",
        "opt = torch.optim.Adam([W, b], lr=0.01)\n",
        "loss_function = nn.MSELoss()\n",
        "losses = []\n",
        "\n",
        "for epoch in range(100):\n",
        "  y_predicted = x @ W + b\n",
        "  loss = loss_function(y_predicted, y)\n",
        "  losses.append(loss.item())\n",
        "\n",
        "  opt.zero_grad()\n",
        "  loss.backward()\n",
        "  opt.step()\n",
        "\n",
        "print(\"Learned W:\", W.item())\n",
        "print(\"Learned b:\", b.item())"
      ],
      "execution_count": 40,
      "outputs": [
        {
          "output_type": "stream",
          "name": "stdout",
          "text": [
            "Learned W: 2.20243239402771\n",
            "Learned b: 0.9036043286323547\n"
          ]
        }
      ]
    },
    {
      "cell_type": "markdown",
      "metadata": {
        "id": "a4c06852"
      },
      "source": [
        "## Compare learning rates\n",
        "\n"
      ]
    },
    {
      "cell_type": "code",
      "metadata": {
        "colab": {
          "base_uri": "https://localhost:8080/"
        },
        "id": "6f7a689f",
        "outputId": "3a653595-1159-4d39-b03d-5e4065b4da9b"
      },
      "source": [
        "learning_rates = [0.001, 0.01, 0.1]\n",
        "losses_by_lr = {}\n",
        "\n",
        "for lr in learning_rates:\n",
        "  model = nn.Linear(1, 1)\n",
        "  opt = torch.optim.Adam(model.parameters(), lr=lr)\n",
        "  loss_function = nn.MSELoss()\n",
        "  current_losses = []\n",
        "\n",
        "  for epoch in range(100):\n",
        "    y_predicted = model(x)\n",
        "    loss = loss_function(y_predicted, y)\n",
        "    current_losses.append(loss.item())\n",
        "\n",
        "    opt.zero_grad()\n",
        "    loss.backward()\n",
        "    opt.step()\n",
        "\n",
        "  losses_by_lr[lr] = current_losses\n",
        "  print(f\"Finished training for learning rate: {lr}\")\n",
        "  print(f\"Learned W: {[p.data for p in model.parameters()][0].item()}\")\n",
        "  print(f\"Learned b: {[p.data for p in model.parameters()][1].item()}\")"
      ],
      "execution_count": 41,
      "outputs": [
        {
          "output_type": "stream",
          "name": "stdout",
          "text": [
            "Finished training for learning rate: 0.001\n",
            "Learned W: 0.49177223443984985\n",
            "Learned b: 0.15903174877166748\n",
            "Finished training for learning rate: 0.01\n",
            "Learned W: 0.45911064743995667\n",
            "Learned b: 1.3421709537506104\n",
            "Finished training for learning rate: 0.1\n",
            "Learned W: 3.018231153488159\n",
            "Learned b: 2.032639741897583\n"
          ]
        }
      ]
    },
    {
      "cell_type": "markdown",
      "metadata": {
        "id": "6525d209"
      },
      "source": [
        "## Visualize loss comparison\n",
        "\n"
      ]
    },
    {
      "cell_type": "code",
      "metadata": {
        "colab": {
          "base_uri": "https://localhost:8080/",
          "height": 564
        },
        "id": "48a964fe",
        "outputId": "d8a428be-aceb-49bd-ce84-c7d0e36b2638"
      },
      "source": [
        "import matplotlib.pyplot as plt\n",
        "\n",
        "plt.figure(figsize=(10, 6))\n",
        "for lr, losses in losses_by_lr.items():\n",
        "    plt.plot(losses, label=f'LR = {lr}')\n",
        "\n",
        "plt.title(\"Training Loss Comparison for Different Learning Rates\")\n",
        "plt.xlabel('Epoch')\n",
        "plt.ylabel('MSE Loss')\n",
        "plt.legend()\n",
        "plt.show()"
      ],
      "execution_count": 42,
      "outputs": [
        {
          "output_type": "display_data",
          "data": {
            "text/plain": [
              "<Figure size 1000x600 with 1 Axes>"
            ],
            "image/png": "[encoded data removed]"
          },
          "metadata": {}
        }
      ]
    },
    {
      "cell_type": "markdown",
      "metadata": {
        "id": "a68c992d"
      },
      "source": [
        "## Implement non-linear regression (y = 2x^2 + 1)\n",
        "\n"
      ]
    },
    {
      "cell_type": "code",
      "metadata": {
        "colab": {
          "base_uri": "https://localhost:8080/"
        },
        "id": "64d6117b",
        "outputId": "411c34c8-f054-40b2-f64e-1d5ad501d434"
      },
      "source": [
        "torch.manual_seed(0)\n",
        "x = torch.linspace(-3, 3, 100).unsqueeze(1)\n",
        "y = 2 * x**2 + 1 + torch.randn(x.size())\n",
        "\n",
        "model_nonlinear = nn.Sequential(\n",
        "    nn.Linear(1, 10),\n",
        "    nn.ReLU(),\n",
        "    nn.Linear(10, 1)\n",
        ")\n",
        "\n",
        "opt_nonlinear = torch.optim.Adam(model_nonlinear.parameters(), lr=0.01)\n",
        "loss_function_nonlinear = nn.MSELoss()\n",
        "\n",
        "for epoch in range(100):\n",
        "    y_predicted_nonlinear = model_nonlinear(x)\n",
        "    loss_nonlinear = loss_function_nonlinear(y_predicted_nonlinear, y)\n",
        "\n",
        "    opt_nonlinear.zero_grad()\n",
        "    loss_nonlinear.backward()\n",
        "    opt_nonlinear.step()\n",
        "\n",
        "print(\"Learned parameters for non-linear model:\")\n",
        "for name, param in model_nonlinear.named_parameters():\n",
        "    if param.requires_grad:\n",
        "        print(name, param.data)"
      ],
      "execution_count": 43,
      "outputs": [
        {
          "output_type": "stream",
          "name": "stdout",
          "text": [
            "Learned parameters for non-linear model:\n",
            "0.weight tensor([[-1.1620],\n",
            "        [ 0.0451],\n",
            "        [ 1.1323],\n",
            "        [ 0.2372],\n",
            "        [ 1.2589],\n",
            "        [-0.8950],\n",
            "        [-1.2725],\n",
            "        [ 1.3892],\n",
            "        [-0.8600],\n",
            "        [-0.9925]])\n",
            "0.bias tensor([ 0.3631, -0.4871,  0.3772, -0.8196,  0.4467,  0.7096, -0.0226,  0.5690,\n",
            "         0.4292,  0.0135])\n",
            "2.weight tensor([[ 0.8411, -0.0273,  1.0431,  0.2011,  1.1634,  0.9647,  1.1310,  0.8357,\n",
            "          0.2712,  0.5179]])\n",
            "2.bias tensor([0.7791])\n"
          ]
        }
      ]
    },
    {
      "cell_type": "markdown",
      "metadata": {
        "id": "bcac69b5"
      },
      "source": [
        "## Visualize non-linear fit\n",
        "\n",
        "\n"
      ]
    },
    {
      "cell_type": "code",
      "metadata": {
        "colab": {
          "base_uri": "https://localhost:8080/",
          "height": 564
        },
        "id": "7aaa4ec2",
        "outputId": "4c0f4ac5-9808-419c-b13c-d4cfadb5b47e"
      },
      "source": [
        "plt.figure(figsize=(10, 6))\n",
        "plt.scatter(x.detach().numpy(), y.detach().numpy(), label='Generated Data', s=10)\n",
        "\n",
        "with torch.no_grad():\n",
        "    y_predicted_nonlinear = model_nonlinear(x)\n",
        "\n",
        "plt.plot(x.detach().numpy(), y_predicted_nonlinear.detach().numpy(), color='red', label='Learned Non-linear Function')\n",
        "\n",
        "plt.title(\"Non-linear Regression Fit\")\n",
        "plt.xlabel('x')\n",
        "plt.ylabel('y')\n",
        "plt.legend()\n",
        "plt.show()"
      ],
      "execution_count": 44,
      "outputs": [
        {
          "output_type": "display_data",
          "data": {
            "text/plain": [
              "<Figure size 1000x600 with 1 Axes>"
            ],
            "image/png": "[encoded data removed]"
          },
          "metadata": {}
        }
      ]
    }
  ]
}